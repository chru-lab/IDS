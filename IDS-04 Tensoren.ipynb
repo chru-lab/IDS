{
 "cells": [
  {
   "cell_type": "markdown",
   "id": "d77224fa",
   "metadata": {},
   "source": [
    "# Tensorfaktorierung"
   ]
  },
  {
   "cell_type": "code",
   "execution_count": 11,
   "id": "a888bcec",
   "metadata": {},
   "outputs": [
    {
     "data": {
      "text/plain": [
       "array([[12,  0,  9],\n",
       "       [ 4,  0,  3],\n",
       "       [ 8,  0,  6]])"
      ]
     },
     "execution_count": 11,
     "metadata": {},
     "output_type": "execute_result"
    }
   ],
   "source": [
    "import numpy as np\n",
    "# Vektoren definieren\n",
    "u = [3, 1, 2]\n",
    "v = [4, 0, 3]\n",
    "w = [2, 3]\n",
    "# Berechnung des dyadischen Produkts\n",
    "np.outer(u,v)"
   ]
  },
  {
   "cell_type": "code",
   "execution_count": 12,
   "id": "39d18abf",
   "metadata": {},
   "outputs": [
    {
     "data": {
      "text/plain": [
       "array([[12,  0,  9],\n",
       "       [ 4,  0,  3],\n",
       "       [ 8,  0,  6]])"
      ]
     },
     "execution_count": 12,
     "metadata": {},
     "output_type": "execute_result"
    }
   ],
   "source": [
    "#Berechnung des äusseren Produkts\n",
    "np.einsum('i,j->ij', u,v)\n",
    "# i ist der index für den ersten vektor, \n",
    "# j ist derjenige des zweiten Vektores"
   ]
  },
  {
   "cell_type": "code",
   "execution_count": 13,
   "id": "78e39a4f",
   "metadata": {},
   "outputs": [
    {
     "data": {
      "text/plain": [
       "array([24,  0, 18])"
      ]
     },
     "execution_count": 13,
     "metadata": {},
     "output_type": "execute_result"
    }
   ],
   "source": [
    "# wenn man teile weglässt wird das Produkt nur aufsummiert \n",
    "np.einsum('i,j->j', u,v)"
   ]
  },
  {
   "cell_type": "code",
   "execution_count": 14,
   "id": "40c28320",
   "metadata": {},
   "outputs": [
    {
     "data": {
      "text/plain": [
       "array([[[24,  0, 18],\n",
       "        [ 8,  0,  6],\n",
       "        [16,  0, 12]],\n",
       "\n",
       "       [[36,  0, 27],\n",
       "        [12,  0,  9],\n",
       "        [24,  0, 18]]])"
      ]
     },
     "execution_count": 14,
     "metadata": {},
     "output_type": "execute_result"
    }
   ],
   "source": [
    "# Für Tensor erzeugen, weiteren index hinzufügen \n",
    "np.einsum('i,j,k -> kij', u,v,w)"
   ]
  },
  {
   "cell_type": "code",
   "execution_count": 7,
   "id": "cb1ff1e4",
   "metadata": {},
   "outputs": [],
   "source": [
    "import tensorly as tl\n",
    "import numpy as np"
   ]
  },
  {
   "cell_type": "code",
   "execution_count": 12,
   "id": "0768d5e7",
   "metadata": {},
   "outputs": [],
   "source": [
    "# Matrix machen\n",
    "A = np.zeros((2,2))\n",
    "A[0,0] =2 \n",
    "A[0,1] =1\n",
    "A[1,0] =1 \n",
    "A[1,1] =3 \n",
    "B = np.zeros((2,2))\n",
    "B[0,0] = 3 \n",
    "B[0,1] = 3\n",
    "B[1,0] = -2 \n",
    "B[1,1] = 4 "
   ]
  },
  {
   "cell_type": "code",
   "execution_count": 13,
   "id": "a7344254",
   "metadata": {},
   "outputs": [
    {
     "data": {
      "text/plain": [
       "array([[ 6.,  6.,  3.,  3.],\n",
       "       [-4.,  8., -2.,  4.],\n",
       "       [ 3.,  3.,  9.,  9.],\n",
       "       [-2.,  4., -6., 12.]])"
      ]
     },
     "execution_count": 13,
     "metadata": {},
     "output_type": "execute_result"
    }
   ],
   "source": [
    "tl.tenalg.kronecker((A, B))"
   ]
  },
  {
   "cell_type": "code",
   "execution_count": 14,
   "id": "f8538a67",
   "metadata": {},
   "outputs": [
    {
     "data": {
      "text/plain": [
       "array([[ 6.,  3.],\n",
       "       [-4.,  4.],\n",
       "       [ 3.,  9.],\n",
       "       [-2., 12.]])"
      ]
     },
     "execution_count": 14,
     "metadata": {},
     "output_type": "execute_result"
    }
   ],
   "source": [
    "tl.tenalg.khatri_rao((A, B))"
   ]
  },
  {
   "cell_type": "code",
   "execution_count": 15,
   "id": "f08cca5b",
   "metadata": {},
   "outputs": [
    {
     "data": {
      "text/plain": [
       "array([[ 6.,  3.],\n",
       "       [-2., 12.]])"
      ]
     },
     "execution_count": 15,
     "metadata": {},
     "output_type": "execute_result"
    }
   ],
   "source": [
    "# Hadamard-Produkt\n",
    "A*B"
   ]
  }
 ],
 "metadata": {
  "kernelspec": {
   "display_name": "Python 3 (ipykernel)",
   "language": "python",
   "name": "python3"
  },
  "language_info": {
   "codemirror_mode": {
    "name": "ipython",
    "version": 3
   },
   "file_extension": ".py",
   "mimetype": "text/x-python",
   "name": "python",
   "nbconvert_exporter": "python",
   "pygments_lexer": "ipython3",
   "version": "3.9.7"
  }
 },
 "nbformat": 4,
 "nbformat_minor": 5
}
