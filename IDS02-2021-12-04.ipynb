{
 "cells": [
  {
   "cell_type": "markdown",
   "id": "e72e46e7",
   "metadata": {},
   "source": [
    "## k-Nächste-Nachbarn\n",
    "- Modell aufsetzen und trainieren (Kreuzvalidierung)\n",
    "```\n",
    "from sklearn.neighbors import KNeighborsClassifier as knn\n",
    "from sklearn.model_selection import train_test_split as split\n",
    "from sklearn.metrics import accuracy_score as score\n",
    "x_train, x_test, y_train, y_test = split(data[:,:2], data[:,2], test_size=0.2)\n",
    "model = knn(n_neighbors=k)\n",
    "model.fit(x_train, y_train)\n",
    "y_pred = model.predict(x_test)\n",
    "score(y_test, y_pred)\n",
    "````\n",
    "Beispiel: Bonität (Datei 'credit.txt'): Alter, Einkommen, Bonität"
   ]
  },
  {
   "cell_type": "code",
   "execution_count": 3,
   "id": "05f9daa3",
   "metadata": {},
   "outputs": [],
   "source": [
    "from sklearn.neighbors import KNeighborsClassifier as knn\n",
    "# automatischer split, wählt die Trainings/Test-daten zufällig aus \n",
    "from sklearn.model_selection import train_test_split as split \n",
    "from sklearn.metrics import accuracy_score as score\n",
    "\n",
    "import numpy as np\n",
    "import matplotlib.pyplot as plt\n",
    "# Reihenfolge des Paketladens ist nicht relevant "
   ]
  },
  {
   "cell_type": "code",
   "execution_count": 10,
   "id": "d318f557",
   "metadata": {},
   "outputs": [
    {
     "data": {
      "text/plain": [
       "array([[ 52.,  23.,   0.],\n",
       "       [ 46.,  75.,   1.],\n",
       "       [ 29.,  30.,   1.],\n",
       "       [ 55.,  42.,   0.],\n",
       "       [ 39.,  47.,   0.],\n",
       "       [ 65.,  26.,   0.],\n",
       "       [ 74.,  54.,   1.],\n",
       "       [ 57.,  76.,   1.],\n",
       "       [ 45.,  85.,   1.],\n",
       "       [ 52.,  18.,   0.],\n",
       "       [ 42.,  83.,   1.],\n",
       "       [ 20.,  27.,   0.],\n",
       "       [ 64.,  83.,   1.],\n",
       "       [ 58.,  64.,   1.],\n",
       "       [ 53.,  53.,   0.],\n",
       "       [ 47.,  70.,   1.],\n",
       "       [ 37.,  38.,   0.],\n",
       "       [ 49.,  95.,   0.],\n",
       "       [ 66.,  95.,   1.],\n",
       "       [ 39.,  72.,   1.],\n",
       "       [ 45.,  21.,   0.],\n",
       "       [ 40.,  49.,   0.],\n",
       "       [ 54.,  75.,   1.],\n",
       "       [ 59.,  78.,   1.],\n",
       "       [ 22.,  43.,   0.],\n",
       "       [ 50.,  84.,   0.],\n",
       "       [ 65.,  62.,   0.],\n",
       "       [ 44.,  83.,   1.],\n",
       "       [ 35.,  44.,   0.],\n",
       "       [ 70., 102.,   1.],\n",
       "       [ 58.,  37.,   1.],\n",
       "       [ 38.,  78.,   1.],\n",
       "       [ 51.,  47.,   0.],\n",
       "       [ 57., 103.,   1.],\n",
       "       [ 64.,  37.,   1.],\n",
       "       [ 54.,  71.,   1.],\n",
       "       [ 46.,  55.,   1.],\n",
       "       [ 53.,  36.,   0.],\n",
       "       [ 29.,  44.,   0.],\n",
       "       [ 44.,  62.,   1.],\n",
       "       [ 66.,  17.,   0.],\n",
       "       [ 54.,  47.,   1.],\n",
       "       [ 44.,  15.,   0.],\n",
       "       [ 33.,   8.,   1.],\n",
       "       [ 58.,  83.,   1.],\n",
       "       [ 50.,  46.,   0.],\n",
       "       [ 43.,  49.,   0.],\n",
       "       [ 45.,  19.,   0.],\n",
       "       [ 65.,  88.,   1.],\n",
       "       [ 33.,  44.,   0.],\n",
       "       [ 29.,  62.,   0.],\n",
       "       [ 53.,  59.,   1.],\n",
       "       [ 42.,  51.,   0.],\n",
       "       [ 59.,  59.,   1.],\n",
       "       [ 55.,  64.,   1.],\n",
       "       [ 68.,  60.,   1.],\n",
       "       [ 30.,  33.,   0.],\n",
       "       [ 54.,  84.,   0.],\n",
       "       [ 62.,  90.,   1.],\n",
       "       [ 47.,  45.,   1.],\n",
       "       [ 54.,  44.,   0.],\n",
       "       [ 49.,  59.,   1.],\n",
       "       [ 67.,  55.,   1.],\n",
       "       [ 41.,  59.,   1.],\n",
       "       [ 31.,  38.,   0.],\n",
       "       [ 59.,  82.,   1.],\n",
       "       [ 61.,  33.,   0.],\n",
       "       [ 49.,  23.,   0.],\n",
       "       [ 50.,  58.,   1.],\n",
       "       [ 29.,  42.,   0.]])"
      ]
     },
     "execution_count": 10,
     "metadata": {},
     "output_type": "execute_result"
    }
   ],
   "source": [
    "# daten laden\n",
    "data = np.loadtxt(\"credit.txt\", delimiter=\",\")\n",
    "data"
   ]
  },
  {
   "cell_type": "code",
   "execution_count": 14,
   "id": "5e0bbfd9",
   "metadata": {},
   "outputs": [
    {
     "data": {
      "text/plain": [
       "array([[ 42.,  83.],\n",
       "       [ 44.,  83.],\n",
       "       [ 29.,  62.],\n",
       "       [ 50.,  58.],\n",
       "       [ 52.,  18.],\n",
       "       [ 54.,  71.],\n",
       "       [ 45.,  19.],\n",
       "       [ 59.,  82.],\n",
       "       [ 57., 103.],\n",
       "       [ 42.,  51.],\n",
       "       [ 74.,  54.],\n",
       "       [ 66.,  17.],\n",
       "       [ 70., 102.],\n",
       "       [ 53.,  36.],\n",
       "       [ 55.,  64.],\n",
       "       [ 47.,  45.],\n",
       "       [ 54.,  75.],\n",
       "       [ 57.,  76.],\n",
       "       [ 49.,  23.],\n",
       "       [ 20.,  27.],\n",
       "       [ 46.,  75.],\n",
       "       [ 50.,  46.],\n",
       "       [ 54.,  84.],\n",
       "       [ 37.,  38.],\n",
       "       [ 62.,  90.],\n",
       "       [ 22.,  43.],\n",
       "       [ 64.,  37.],\n",
       "       [ 49.,  95.],\n",
       "       [ 33.,   8.],\n",
       "       [ 33.,  44.],\n",
       "       [ 30.,  33.],\n",
       "       [ 64.,  83.],\n",
       "       [ 58.,  83.],\n",
       "       [ 40.,  49.],\n",
       "       [ 29.,  42.],\n",
       "       [ 43.,  49.],\n",
       "       [ 47.,  70.],\n",
       "       [ 46.,  55.],\n",
       "       [ 51.,  47.],\n",
       "       [ 29.,  30.],\n",
       "       [ 41.,  59.],\n",
       "       [ 31.,  38.],\n",
       "       [ 44.,  62.],\n",
       "       [ 54.,  44.],\n",
       "       [ 66.,  95.],\n",
       "       [ 67.,  55.],\n",
       "       [ 54.,  47.],\n",
       "       [ 59.,  78.],\n",
       "       [ 58.,  64.],\n",
       "       [ 53.,  53.],\n",
       "       [ 38.,  78.],\n",
       "       [ 39.,  72.],\n",
       "       [ 49.,  59.],\n",
       "       [ 44.,  15.],\n",
       "       [ 50.,  84.],\n",
       "       [ 45.,  21.]])"
      ]
     },
     "execution_count": 14,
     "metadata": {},
     "output_type": "execute_result"
    }
   ],
   "source": [
    "# Daten automatisch aufsplitten lassen 80% Train, 20% Test\n",
    "x_train, x_test, y_train, y_test = split(data[:,:2], data[:,2], test_size=0.2)\n",
    "x_train"
   ]
  },
  {
   "cell_type": "code",
   "execution_count": 17,
   "id": "7c154c02",
   "metadata": {},
   "outputs": [
    {
     "data": {
      "text/plain": [
       "KNeighborsClassifier()"
      ]
     },
     "execution_count": 17,
     "metadata": {},
     "output_type": "execute_result"
    }
   ],
   "source": [
    "# Model erstellen (anzahl neighbours eingeben, kleinen Wert, default = 5)\n",
    "model = knn(n_neighbors=5)\n",
    "# Model trainieren\n",
    "model.fit(x_train, y_train)"
   ]
  },
  {
   "cell_type": "code",
   "execution_count": 21,
   "id": "09575157",
   "metadata": {},
   "outputs": [],
   "source": [
    "# Vorhersage in y_pred speichern (mit Befehl predict)\n",
    "y_pred = model.predict(x_test)"
   ]
  },
  {
   "cell_type": "code",
   "execution_count": 32,
   "id": "07b27f31",
   "metadata": {},
   "outputs": [
    {
     "name": "stdout",
     "output_type": "stream",
     "text": [
      "Tatsächliche Werte:  [1. 1. 0. 0. 0. 1. 0. 0. 1. 1. 0. 0. 0. 1.]\n",
      "Vorhersagen       :  [1. 0. 0. 1. 0. 1. 0. 0. 1. 1. 0. 0. 0. 1.]\n",
      "Score\n",
      "Der Score 0.8571428571428571\n"
     ]
    }
   ],
   "source": [
    "# vorhersagen vergleichen \n",
    "print(\"Tatsächliche Werte: \",y_test)\n",
    "print(\"Vorhersagen       : \",y_pred)\n",
    "# Score anzeigen\n",
    "print(\"Score\")\n",
    "print(\"Der Score\",score(y_test, y_pred))\n"
   ]
  },
  {
   "cell_type": "markdown",
   "id": "9c5e84bf",
   "metadata": {},
   "source": [
    "Bestimmung des optimalen k-Werts aus [1, n]\n",
    "```for k in range(1,16):\n",
    "model = knn(n_neighbors=k)\n",
    "model.fit(x_train, y_train)\n",
    "y_pred = model.predict(x_test)\n",
    "print(k, \":\", score(y_test, y_pred))\n",
    "```\n",
    "Frage: welche Werte für k sinnvoll…?\n",
    "\n",
    "und welche Bonität hat nun unsere Person (57) mit 37'000 CHF Einkommen…?\n",
    "``` model.predict([[57., 37.]]) 15 niedrig```"
   ]
  },
  {
   "cell_type": "code",
   "execution_count": 33,
   "id": "8e4c3cbd",
   "metadata": {},
   "outputs": [
    {
     "name": "stdout",
     "output_type": "stream",
     "text": [
      "für K-Wert = 1 : 0.7857142857142857\n",
      "für K-Wert = 2 : 0.8571428571428571\n",
      "für K-Wert = 3 : 0.8571428571428571\n",
      "für K-Wert = 4 : 0.7857142857142857\n",
      "für K-Wert = 5 : 0.8571428571428571\n",
      "für K-Wert = 6 : 0.8571428571428571\n",
      "für K-Wert = 7 : 0.8571428571428571\n",
      "für K-Wert = 8 : 0.8571428571428571\n",
      "für K-Wert = 9 : 0.8571428571428571\n",
      "für K-Wert = 10 : 0.8571428571428571\n",
      "für K-Wert = 11 : 0.8571428571428571\n",
      "für K-Wert = 12 : 0.8571428571428571\n",
      "für K-Wert = 13 : 0.8571428571428571\n",
      "für K-Wert = 14 : 0.8571428571428571\n",
      "für K-Wert = 15 : 0.8571428571428571\n"
     ]
    }
   ],
   "source": [
    "for k in range(1,16):\n",
    "    model = knn(n_neighbors=k)\n",
    "    model.fit(x_train, y_train)\n",
    "    y_pred = model.predict(x_test)\n",
    "    print(\"für K-Wert =\",k, \":\", score(y_test, y_pred))"
   ]
  },
  {
   "cell_type": "markdown",
   "id": "30e64d04",
   "metadata": {},
   "source": [
    "> Diese Werte sind Abhängig vom Split und sollten sich leicht verändern wenn ein anderer gewählt wird\n",
    "\n",
    "> **Wenn der Datensatz grösser ist, sollten die Zahlen weniger schwanken bei unterschiedlichen splits**"
   ]
  },
  {
   "cell_type": "markdown",
   "id": "0828bb64",
   "metadata": {},
   "source": [
    "und welche Bonität hat nun unsere Person (57) mit 37'000 CHF Einkommen…?\n",
    "\n",
    "> model.predict([[57., 37.]])→ niedrig"
   ]
  },
  {
   "cell_type": "code",
   "execution_count": 34,
   "id": "f5c33665",
   "metadata": {},
   "outputs": [
    {
     "data": {
      "text/plain": [
       "array([0.])"
      ]
     },
     "execution_count": 34,
     "metadata": {},
     "output_type": "execute_result"
    }
   ],
   "source": [
    "model.predict([[57., 37.]])"
   ]
  }
 ],
 "metadata": {
  "kernelspec": {
   "display_name": "Python 3 (ipykernel)",
   "language": "python",
   "name": "python3"
  },
  "language_info": {
   "codemirror_mode": {
    "name": "ipython",
    "version": 3
   },
   "file_extension": ".py",
   "mimetype": "text/x-python",
   "name": "python",
   "nbconvert_exporter": "python",
   "pygments_lexer": "ipython3",
   "version": "3.9.7"
  }
 },
 "nbformat": 4,
 "nbformat_minor": 5
}
