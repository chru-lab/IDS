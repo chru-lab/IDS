{
 "cells": [
  {
   "cell_type": "markdown",
   "id": "3f793def",
   "metadata": {},
   "source": [
    "# IDS-01: Aufgaben\n",
    "## numpy importieren und Textdatei (CSV) laden"
   ]
  },
  {
   "cell_type": "code",
   "execution_count": 1,
   "id": "6224c241",
   "metadata": {},
   "outputs": [],
   "source": [
    "import os"
   ]
  },
  {
   "cell_type": "code",
   "execution_count": 2,
   "id": "9d8fa643",
   "metadata": {
    "scrolled": true
   },
   "outputs": [
    {
     "data": {
      "text/plain": [
       "'/Users/reslr/Documents/MSc/IDS'"
      ]
     },
     "execution_count": 2,
     "metadata": {},
     "output_type": "execute_result"
    }
   ],
   "source": [
    "os.getcwd()"
   ]
  },
  {
   "cell_type": "code",
   "execution_count": 3,
   "id": "801b108f",
   "metadata": {},
   "outputs": [
    {
     "name": "stdout",
     "output_type": "stream",
     "text": [
      "IDS-01-Aufgabe.ipynb  smp_data.txt\r\n"
     ]
    }
   ],
   "source": [
    "ls"
   ]
  },
  {
   "cell_type": "markdown",
   "id": "510b6aa5",
   "metadata": {},
   "source": [
    "numpy importieren und Textdatei (CSV) laden"
   ]
  },
  {
   "cell_type": "code",
   "execution_count": 4,
   "id": "1c3e702c",
   "metadata": {},
   "outputs": [],
   "source": [
    "import numpy as np"
   ]
  },
  {
   "cell_type": "code",
   "execution_count": 5,
   "id": "51168da1",
   "metadata": {},
   "outputs": [],
   "source": [
    "data = np.loadtxt(\"smp_data.txt\", delimiter=\",\")"
   ]
  },
  {
   "cell_type": "code",
   "execution_count": 6,
   "id": "28da44ee",
   "metadata": {},
   "outputs": [],
   "source": [
    "#print(data)"
   ]
  },
  {
   "cell_type": "markdown",
   "id": "525d0a15",
   "metadata": {},
   "source": [
    "Ausgabe einzelner Zeilen und Spalten mit [min_row : max_row, min_col : max_col]"
   ]
  },
  {
   "cell_type": "code",
   "execution_count": 7,
   "id": "8d28d150",
   "metadata": {},
   "outputs": [
    {
     "name": "stdout",
     "output_type": "stream",
     "text": [
      "[6. 9.]\n"
     ]
    }
   ],
   "source": [
    "print(data[2:4,0])"
   ]
  },
  {
   "cell_type": "markdown",
   "id": "de4adc91",
   "metadata": {},
   "source": [
    "matplotlib importieren und Daten plotten, pyplot plottet zweidimensionale Daten"
   ]
  },
  {
   "cell_type": "code",
   "execution_count": 8,
   "id": "aa070373",
   "metadata": {},
   "outputs": [],
   "source": [
    "import matplotlib.pyplot as plt"
   ]
  },
  {
   "cell_type": "code",
   "execution_count": 9,
   "id": "33b4651d",
   "metadata": {},
   "outputs": [
    {
     "data": {
      "text/plain": [
       "[<matplotlib.lines.Line2D at 0x1167d8220>]"
      ]
     },
     "execution_count": 9,
     "metadata": {},
     "output_type": "execute_result"
    },
    {
     "data": {
      "image/png": "[encoded data removed]",
      "text/plain": [
       "<Figure size 432x288 with 1 Axes>"
      ]
     },
     "metadata": {
      "needs_background": "light"
     },
     "output_type": "display_data"
    }
   ],
   "source": [
    "plt.xlabel(\"Anzahl neuer Freunde\")\n",
    "plt.ylabel(\"Zeit [Sekunden]\")\n",
    "plt.title(\"Meine erste Visualisierung\")\n",
    "plt.axis([0,12,0,800])\n",
    "plt.grid(True)\n",
    "plt.plot(data[:,0],data[:,1], 'ro')"
   ]
  },
  {
   "cell_type": "markdown",
   "id": "7fd8fedc",
   "metadata": {},
   "source": [
    "## Lineare Regression\n",
    "scikit-learn importieren, Modell aufsetzen und trainieren"
   ]
  },
  {
   "cell_type": "code",
   "execution_count": 10,
   "id": "8c2879e6",
   "metadata": {},
   "outputs": [],
   "source": [
    "from sklearn.linear_model import LinearRegression as lr\n",
    "model = lr()"
   ]
  },
  {
   "cell_type": "markdown",
   "id": "ec59619a",
   "metadata": {},
   "source": [
    "Daten in X-Koordinaten und Y-Koordinaten slicen "
   ]
  },
  {
   "cell_type": "code",
   "execution_count": 11,
   "id": "108b5be7",
   "metadata": {},
   "outputs": [],
   "source": [
    "x_data = data[:,0]\n",
    "y_data = data[:,1]"
   ]
  },
  {
   "cell_type": "code",
   "execution_count": 12,
   "id": "b3759e28",
   "metadata": {},
   "outputs": [
    {
     "name": "stdout",
     "output_type": "stream",
     "text": [
      "[ 3.  1.  6.  9. 11.  7.  5.  8.  2.  5.  7. 10.  6.  4.  7.  8.  2. 10.\n",
      "  5.  8.  9.  4.  4.  7. 11.  8.  3.  5.  8.  4.  2. 11.  3.  7.  9.  6.\n",
      "  6.  9.  4.  8.  5. 10.  3. 11.  6.  7.  4. 10.  5.  6.]\n"
     ]
    }
   ],
   "source": [
    "print(x_data)"
   ]
  },
  {
   "cell_type": "markdown",
   "id": "7d9f4ab0",
   "metadata": {},
   "source": [
    "model.fit(x_data, y_data) \n",
    "funktioniert nicht, da x-daten falsch orientiert sind:\n",
    "Problem: xdata ist Spaltenvektor -> Daten umformen (numpy.reshape)\n",
    "Bedeutung von (-1, 1): unbekannte Anzahl an Zeilen bei genau einer Spalte -> Spaltenvektor"
   ]
  },
  {
   "cell_type": "code",
   "execution_count": 13,
   "id": "c574be34",
   "metadata": {},
   "outputs": [],
   "source": [
    "x_data = data[:,0].reshape((-1, 1))"
   ]
  },
  {
   "cell_type": "code",
   "execution_count": 14,
   "id": "6756bf7c",
   "metadata": {},
   "outputs": [],
   "source": [
    "#print(x_data)"
   ]
  },
  {
   "cell_type": "code",
   "execution_count": 15,
   "id": "5f672e05",
   "metadata": {},
   "outputs": [
    {
     "name": "stdout",
     "output_type": "stream",
     "text": [
      "-45.50063574548079 [57.88097739]\n"
     ]
    }
   ],
   "source": [
    "model.fit(x_data, y_data)\n",
    "beta0 = model.intercept_\n",
    "beta1 = model.coef_\n",
    "print(beta0, beta1)"
   ]
  },
  {
   "cell_type": "code",
   "execution_count": 16,
   "id": "1a35e18d",
   "metadata": {},
   "outputs": [],
   "source": [
    "y_pred = model.predict(x_data)"
   ]
  },
  {
   "cell_type": "code",
   "execution_count": 17,
   "id": "671f5b94",
   "metadata": {},
   "outputs": [
    {
     "data": {
      "text/plain": [
       "Text(0.5, 1.0, 'Meine erste Visualisierung')"
      ]
     },
     "execution_count": 17,
     "metadata": {},
     "output_type": "execute_result"
    },
    {
     "data": {
      "image/png": "[encoded data removed]",
      "text/plain": [
       "<Figure size 432x288 with 1 Axes>"
      ]
     },
     "metadata": {
      "needs_background": "light"
     },
     "output_type": "display_data"
    }
   ],
   "source": [
    "plt.plot(data[:,0],data[:,1], 'ro')\n",
    "plt.plot(x_data, y_pred, 'b-') # b- : blaue gerade\n",
    "plt.grid(True)\n",
    "## von oben kopiert:\n",
    "plt.xlabel(\"Anzahl neuer Freunde\")\n",
    "plt.ylabel(\"Zeit [Sekunden]\")\n",
    "plt.title(\"Meine erste Visualisierung\")"
   ]
  },
  {
   "cell_type": "markdown",
   "id": "9f46969b",
   "metadata": {},
   "source": [
    "MSE ist ein gutes Mass für die Varianz (vgl. Varianz aus der Statistik), d.h. wie stark die\n",
    "vorhergesagten Werte ( ) von den tatsächlichen / beobachteten Werten ( ) variieren"
   ]
  },
  {
   "cell_type": "code",
   "execution_count": 18,
   "id": "4347769c",
   "metadata": {},
   "outputs": [
    {
     "data": {
      "text/plain": [
       "81.96005062057918"
      ]
     },
     "execution_count": 18,
     "metadata": {},
     "output_type": "execute_result"
    }
   ],
   "source": [
    "# Mittlere quadratische abweichung MSE berechnung\n",
    "from sklearn.metrics import mean_squared_error as mse\n",
    "mse(y_data, y_pred, squared=False)"
   ]
  },
  {
   "cell_type": "code",
   "execution_count": 19,
   "id": "666e8b66",
   "metadata": {},
   "outputs": [
    {
     "data": {
      "text/plain": [
       "0.783015570003795"
      ]
     },
     "execution_count": 19,
     "metadata": {},
     "output_type": "execute_result"
    }
   ],
   "source": [
    "from sklearn.metrics import r2_score\n",
    "r2_score(y_data, y_pred) # unsere Regressionsgerade gibt die Tendenz zu 80% wieder "
   ]
  },
  {
   "cell_type": "markdown",
   "id": "7d737ca4",
   "metadata": {},
   "source": [
    "## Kreuzvalidierung"
   ]
  },
  {
   "cell_type": "code",
   "execution_count": 20,
   "id": "56521970",
   "metadata": {},
   "outputs": [],
   "source": [
    "x_train = x_data[:-10]\n",
    "x_test = x_data[-10:]\n",
    "y_train = y_data[:-10]\n",
    "y_test = y_data[-10:]\n",
    "model.fit(x_train, y_train)\n",
    "y_pred = model.predict(x_test)"
   ]
  },
  {
   "cell_type": "code",
   "execution_count": 21,
   "id": "cbdf2764",
   "metadata": {},
   "outputs": [
    {
     "name": "stdout",
     "output_type": "stream",
     "text": [
      "[357. 517. 292. 559. 158. 382.  91. 551. 125. 333.]\n"
     ]
    }
   ],
   "source": [
    "print(y_test)"
   ]
  },
  {
   "cell_type": "code",
   "execution_count": 22,
   "id": "01826caa",
   "metadata": {},
   "outputs": [
    {
     "name": "stdout",
     "output_type": "stream",
     "text": [
      "93.84640479162644\n"
     ]
    },
    {
     "data": {
      "text/plain": [
       "0.6731368540714764"
      ]
     },
     "execution_count": 22,
     "metadata": {},
     "output_type": "execute_result"
    }
   ],
   "source": [
    "print(mse(y_test, y_pred, squared=False))\n",
    "\n",
    "r2_score(y_test, y_pred) # modell wird schlechter, weil wir zuwenig Daten haben "
   ]
  },
  {
   "cell_type": "markdown",
   "id": "21ce03eb",
   "metadata": {},
   "source": [
    "## Praktische Übung mit testdatensatz aus Sci-Kit-Learn"
   ]
  },
  {
   "cell_type": "markdown",
   "id": "520e336c",
   "metadata": {},
   "source": [
    "- Datensatz: Diabetes (aus dem Paket sklearn)\n",
    "```\n",
    "from sklearn import datasets\n",
    "diabetes_x, diabetes_y = datasets.load_diabetes(return_X_y=True)\n",
    "diabetes_x = diabates_x[:, numpy.newaxis, 2]\n",
    "```\n",
    "- Aufgabe\n",
    "    - Datensatz in Trainings- und Testdaten aufteilen (80% : 20%)\n",
    "    - Modell trainieren\n",
    "    - Modell testen und Fehler (MSE, R2) bestimmen\n",
    "    - Ergebnisse plotten"
   ]
  },
  {
   "cell_type": "code",
   "execution_count": 27,
   "id": "061aa950",
   "metadata": {},
   "outputs": [
    {
     "data": {
      "text/plain": [
       "[<matplotlib.lines.Line2D at 0x12441d3a0>]"
      ]
     },
     "execution_count": 27,
     "metadata": {},
     "output_type": "execute_result"
    },
    {
     "data": {
      "image/png": "[encoded data removed]",
      "text/plain": [
       "<Figure size 432x288 with 1 Axes>"
      ]
     },
     "metadata": {
      "needs_background": "light"
     },
     "output_type": "display_data"
    }
   ],
   "source": [
    "from sklearn import datasets\n",
    "diabetes_x, diabetes_y = datasets.load_diabetes(return_X_y=True)\n",
    "diabetes_x = diabetes_x[:, np.newaxis, 2]\n",
    "plt.plot(diabetes_x,diabetes_y, 'ro')"
   ]
  },
  {
   "cell_type": "code",
   "execution_count": 42,
   "id": "f8f6a133",
   "metadata": {},
   "outputs": [
    {
     "name": "stdout",
     "output_type": "stream",
     "text": [
      "-88\n"
     ]
    }
   ],
   "source": [
    "test_split=int(diabetes_y.size/100*20)  ## 20% der Daten ausgeben \n",
    "print(-test_split)"
   ]
  },
  {
   "cell_type": "code",
   "execution_count": 70,
   "id": "99fd9f29",
   "metadata": {},
   "outputs": [
    {
     "name": "stdout",
     "output_type": "stream",
     "text": [
      "MSE: 64.22472573032357\n",
      "R2_score 0.36254054806070146\n"
     ]
    },
    {
     "data": {
      "text/plain": [
       "[<matplotlib.lines.Line2D at 0x1266ffc70>]"
      ]
     },
     "execution_count": 70,
     "metadata": {},
     "output_type": "execute_result"
    },
    {
     "data": {
      "image/png": "[encoded data removed]",
      "text/plain": [
       "<Figure size 432x288 with 1 Axes>"
      ]
     },
     "metadata": {
      "needs_background": "light"
     },
     "output_type": "display_data"
    }
   ],
   "source": [
    "# Datensatz in Trainings- und Testdaten aufteilen (80% : 20%)\n",
    "model = lr()\n",
    "dia_x_train = diabetes_x[:-test_split]\n",
    "dia_x_test = diabetes_x[-test_split:]\n",
    "dia_y_train = diabetes_y[:-test_split]\n",
    "dia_y_test = diabetes_y[-test_split:]\n",
    "# Modell trainieren\n",
    "model.fit(dia_x_train, dia_y_train)\n",
    "dia_y_pred = model.predict(dia_x_test)\n",
    "\n",
    "print(\"MSE:\", mse(dia_y_test,dia_y_pred, squared=False))\n",
    "print(\"R2_score\", r2_score(dia_y_test,dia_y_pred))\n",
    "plt.plot(dia_x_train,dia_y_train,'ro')\n",
    "plt.plot(dia_x_test,dia_y_pred,'b-')"
   ]
  }
 ],
 "metadata": {
  "kernelspec": {
   "display_name": "Python 3 (ipykernel)",
   "language": "python",
   "name": "python3"
  },
  "language_info": {
   "codemirror_mode": {
    "name": "ipython",
    "version": 3
   },
   "file_extension": ".py",
   "mimetype": "text/x-python",
   "name": "python",
   "nbconvert_exporter": "python",
   "pygments_lexer": "ipython3",
   "version": "3.9.7"
  }
 },
 "nbformat": 4,
 "nbformat_minor": 5
}
