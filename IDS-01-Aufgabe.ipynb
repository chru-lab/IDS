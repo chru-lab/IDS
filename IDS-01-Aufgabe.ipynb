{
 "cells": [
  {
   "cell_type": "markdown",
   "id": "3f793def",
   "metadata": {},
   "source": [
    "# numpy importieren und Textdatei (CSV) laden"
   ]
  },
  {
   "cell_type": "code",
   "execution_count": 1,
   "id": "6224c241",
   "metadata": {},
   "outputs": [],
   "source": [
    "import os"
   ]
  },
  {
   "cell_type": "code",
   "execution_count": 2,
   "id": "9d8fa643",
   "metadata": {
    "scrolled": true
   },
   "outputs": [
    {
     "data": {
      "text/plain": [
       "'/Users/reslr/Documents/MSc/IDS'"
      ]
     },
     "execution_count": 2,
     "metadata": {},
     "output_type": "execute_result"
    }
   ],
   "source": [
    "os.getcwd()"
   ]
  },
  {
   "cell_type": "code",
   "execution_count": 3,
   "id": "801b108f",
   "metadata": {},
   "outputs": [
    {
     "name": "stdout",
     "output_type": "stream",
     "text": [
      "IDS-01-Aufgabe.ipynb  smp_data.txt\r\n"
     ]
    }
   ],
   "source": [
    "ls"
   ]
  },
  {
   "cell_type": "markdown",
   "id": "510b6aa5",
   "metadata": {},
   "source": [
    "numpy importieren und Textdatei (CSV) laden"
   ]
  },
  {
   "cell_type": "code",
   "execution_count": 10,
   "id": "1c3e702c",
   "metadata": {},
   "outputs": [],
   "source": [
    "import numpy as np"
   ]
  },
  {
   "cell_type": "code",
   "execution_count": 5,
   "id": "51168da1",
   "metadata": {},
   "outputs": [],
   "source": [
    "data = np.loadtxt(\"smp_data.txt\", delimiter=\",\")"
   ]
  },
  {
   "cell_type": "code",
   "execution_count": 6,
   "id": "28da44ee",
   "metadata": {},
   "outputs": [
    {
     "name": "stdout",
     "output_type": "stream",
     "text": [
      "[[  3.  80.]\n",
      " [  1.  35.]\n",
      " [  6. 392.]\n",
      " [  9. 515.]\n",
      " [ 11. 742.]\n",
      " [  7. 401.]\n",
      " [  5. 266.]\n",
      " [  8. 390.]\n",
      " [  2.  69.]\n",
      " [  5. 157.]\n",
      " [  7. 339.]\n",
      " [ 10. 486.]\n",
      " [  6. 182.]\n",
      " [  4. 234.]\n",
      " [  7. 287.]\n",
      " [  8. 455.]\n",
      " [  2.  41.]\n",
      " [ 10. 638.]\n",
      " [  5. 179.]\n",
      " [  8. 335.]\n",
      " [  9. 488.]\n",
      " [  4. 119.]\n",
      " [  4. 201.]\n",
      " [  7. 483.]\n",
      " [ 11. 615.]\n",
      " [  8. 609.]\n",
      " [  3. 268.]\n",
      " [  5. 211.]\n",
      " [  8. 313.]\n",
      " [  4. 309.]\n",
      " [  2. 121.]\n",
      " [ 11. 535.]\n",
      " [  3. 109.]\n",
      " [  7. 231.]\n",
      " [  9. 384.]\n",
      " [  6. 292.]\n",
      " [  6. 215.]\n",
      " [  9. 570.]\n",
      " [  4. 159.]\n",
      " [  8. 369.]\n",
      " [  5. 357.]\n",
      " [ 10. 517.]\n",
      " [  3. 292.]\n",
      " [ 11. 559.]\n",
      " [  6. 158.]\n",
      " [  7. 382.]\n",
      " [  4.  91.]\n",
      " [ 10. 551.]\n",
      " [  5. 125.]\n",
      " [  6. 333.]]\n"
     ]
    }
   ],
   "source": [
    "print(data)"
   ]
  },
  {
   "cell_type": "markdown",
   "id": "525d0a15",
   "metadata": {},
   "source": [
    "Ausgabe einzelner Zeilen und Spalten mit [min_row : max_row, min_col : max_col]"
   ]
  },
  {
   "cell_type": "code",
   "execution_count": 7,
   "id": "8d28d150",
   "metadata": {},
   "outputs": [
    {
     "name": "stdout",
     "output_type": "stream",
     "text": [
      "[6. 9.]\n"
     ]
    }
   ],
   "source": [
    "print(data[2:4,0])"
   ]
  },
  {
   "cell_type": "markdown",
   "id": "de4adc91",
   "metadata": {},
   "source": [
    "matplotlib importieren und Daten plotten, pyplot plottet zweidimensionale Daten"
   ]
  },
  {
   "cell_type": "code",
   "execution_count": 8,
   "id": "aa070373",
   "metadata": {},
   "outputs": [],
   "source": [
    "import matplotlib.pyplot as plt"
   ]
  },
  {
   "cell_type": "code",
   "execution_count": 9,
   "id": "33b4651d",
   "metadata": {},
   "outputs": [
    {
     "data": {
      "text/plain": [
       "[<matplotlib.lines.Line2D at 0x117812ee0>]"
      ]
     },
     "execution_count": 9,
     "metadata": {},
     "output_type": "execute_result"
    },
    {
     "data": {
      "image/png": "[encoded data removed]",
      "text/plain": [
       "<Figure size 432x288 with 1 Axes>"
      ]
     },
     "metadata": {
      "needs_background": "light"
     },
     "output_type": "display_data"
    }
   ],
   "source": [
    "plt.xlabel(\"Anzahl neuer Freunde\")\n",
    "plt.ylabel(\"Zeit [Sekunden]\")\n",
    "plt.title(\"Meine erste Visualisierung\")\n",
    "plt.axis([0,12,0,800])\n",
    "plt.grid(True)\n",
    "plt.plot(data[:,0],data[:,1], 'ro')"
   ]
  },
  {
   "cell_type": "code",
   "execution_count": null,
   "id": "a1152aca",
   "metadata": {},
   "outputs": [],
   "source": []
  },
  {
   "cell_type": "code",
   "execution_count": null,
   "id": "2b92af70",
   "metadata": {},
   "outputs": [],
   "source": []
  }
 ],
 "metadata": {
  "kernelspec": {
   "display_name": "Python 3 (ipykernel)",
   "language": "python",
   "name": "python3"
  },
  "language_info": {
   "codemirror_mode": {
    "name": "ipython",
    "version": 3
   },
   "file_extension": ".py",
   "mimetype": "text/x-python",
   "name": "python",
   "nbconvert_exporter": "python",
   "pygments_lexer": "ipython3",
   "version": "3.9.8"
  }
 },
 "nbformat": 4,
 "nbformat_minor": 5
}
